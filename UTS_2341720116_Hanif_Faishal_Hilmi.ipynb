{
  "cells": [
    {
      "cell_type": "markdown",
      "metadata": {
        "id": "view-in-github",
        "colab_type": "text"
      },
      "source": [
        "<a href=\"https://colab.research.google.com/github/HanifFaishalH/MachineLearning/blob/main/UTS_2341720116_Hanif_Faishal_Hilmi.ipynb\" target=\"_parent\"><img src=\"https://colab.research.google.com/assets/colab-badge.svg\" alt=\"Open In Colab\"/></a>"
      ]
    },
    {
      "cell_type": "markdown",
      "id": "168cf8b6",
      "metadata": {
        "id": "168cf8b6"
      },
      "source": [
        "# UTS\n",
        "\n",
        "## Nama     : Hanif Faishal Hilmi\n",
        "\n",
        "## Kelas     : TI-3F\n",
        "\n",
        "## NIM     : 2341720116"
      ]
    },
    {
      "cell_type": "markdown",
      "id": "73447003",
      "metadata": {
        "id": "73447003"
      },
      "source": [
        "# Studi Kasus 3 - Heart Diseases\n",
        "\n",
        "- Studi kasus ini tentang ciri penyakit liver.\n",
        "- Untuk mahasiswa dengan no absen 3, 6, 9, 12, dst\n",
        "- Lakukan beberapa tahapan berikut dan lakukan proses analisis terhadap hasil yang dihasilkan.\n",
        "\n",
        "## Pra Pengolahan Data (10 poin)\n",
        "\n",
        "1. Load data (0 poin)\n",
        "2. Cek deskripsi data apakah menggandung nilai yang hilang. Jika ya, sebutkan berapa dan pada fitur yang mana. (5 poin)\n",
        "4. Drop fitur yang tidak relevan untuk proses clustering. (5 poin)\n",
        "\n",
        "## Feature Selection (20 poin)\n",
        "\n",
        "1. Pilih 5 variabel terbaik menurut Anda dari seluruh variabel yang ada. (10 poin)\n",
        "2. Bagaimana cara Anda memilih 5 variabel tersebut? Kemukakan alasan Anda. (10 poin)\n",
        "\n",
        "## Clustering - 1 (30 poin)\n",
        "\n",
        "1. Lakukan pembuatan model cluster dengan menggunakan KMeans dengan jumlah cluster mulai 1 hingga 10. (10 poin)\n",
        "2. Buat diagram elbow, tentukan jumlah cluster terbaik menurut elbow method dan berikan alasan. (10 poin)\n",
        "3. Hitung nilai silhouette coefficient dari k=1 hingga k=10. Berdassarkan nilai silhouette, berapa jumlah cluster terbaik? Apakah sama dengan metode elbow? (10 poin)\n",
        "\n",
        "NB: Anda diperbolehkan untuk melakukan proses normalisasi/standardisasi sebelum pembuatan model clustering. Lakukan pengamatan terhadap hasil clustering.\n",
        "\n",
        "## Clustering - 2 (20 poin)\n",
        "\n",
        "1. Lakukan pembuatan model cluster dengan menggunakan DBSCAN. Berapa jumlah cluster yang dihasilkan? (10 poin)\n",
        "2. Berapa nilai silhouette coefficient dan DBI dari cluster yang dihasilkan oleh DBSCAN? (10 poin)\n",
        "\n",
        "## Feature Selection 2 (30 poin)\n",
        "Setelah mengetahui performa hasil clustering pada model KMeans dan DBSCAN berdasakan silhouette coefficient dan DBI, lakukan proses feature selection untuk meningkatkan nilai silhouette coefficient dan DBI. Anda diperbolehkan untuk menggunakan metode iterative process atau metode yang lain.\n",
        "\n",
        "1. Fitur apa yang memberikan nilai silhouette coefficient/DBI terbaik? Lengkapi dengan proses pemilihan fitur\n",
        "2. Mengapa Anda menggunakan metode pemilihan fitur tersebut?\n",
        "\n",
        "\n",
        "## BONUS - CHALLENGE (30 poin)\n",
        "Buatlah model ANNOY menggunakan data yang telah melalui proses pra pengolahan data. Lakukan query dengan 5 nilai terdekat. Apakah ANNOY melakukan query pada cluster terbaik yang telah Anda bentuk?"
      ]
    },
    {
      "cell_type": "markdown",
      "id": "013ab3ed",
      "metadata": {
        "id": "013ab3ed"
      },
      "source": [
        "# Jawab"
      ]
    },
    {
      "cell_type": "markdown",
      "id": "67c19354",
      "metadata": {
        "id": "67c19354"
      },
      "source": [
        "## Pra Pengolahan Data (10 poin)\n",
        "\n",
        "1. Load data (0 poin)\n",
        "2. Cek deskripsi data apakah menggandung nilai yang hilang. Jika ya, sebutkan berapa dan pada fitur yang mana. (5 poin)\n",
        "4. Drop fitur yang tidak relevan untuk proses clustering. (5 poin)"
      ]
    },
    {
      "cell_type": "code",
      "execution_count": 1,
      "id": "7d0d5582",
      "metadata": {
        "colab": {
          "base_uri": "https://localhost:8080/"
        },
        "id": "7d0d5582",
        "outputId": "6413b6dd-11ad-4839-9bbb-624bc3b68aa2"
      },
      "outputs": [
        {
          "output_type": "stream",
          "name": "stdout",
          "text": [
            "<class 'pandas.core.frame.DataFrame'>\n",
            "RangeIndex: 1025 entries, 0 to 1024\n",
            "Data columns (total 14 columns):\n",
            " #   Column    Non-Null Count  Dtype  \n",
            "---  ------    --------------  -----  \n",
            " 0   age       1025 non-null   int64  \n",
            " 1   sex       1025 non-null   int64  \n",
            " 2   cp        1025 non-null   int64  \n",
            " 3   trestbps  1025 non-null   int64  \n",
            " 4   chol      1025 non-null   int64  \n",
            " 5   fbs       1025 non-null   int64  \n",
            " 6   restecg   1025 non-null   int64  \n",
            " 7   thalach   1025 non-null   int64  \n",
            " 8   exang     1025 non-null   int64  \n",
            " 9   oldpeak   1025 non-null   float64\n",
            " 10  slope     1025 non-null   int64  \n",
            " 11  ca        1025 non-null   int64  \n",
            " 12  thal      1025 non-null   int64  \n",
            " 13  target    1025 non-null   int64  \n",
            "dtypes: float64(1), int64(13)\n",
            "memory usage: 112.2 KB\n"
          ]
        }
      ],
      "source": [
        "import numpy as np\n",
        "import matplotlib.pyplot as plt\n",
        "import pandas as pd\n",
        "\n",
        "# 1. Load data\n",
        "data = pd.read_csv('3_heart.csv')\n",
        "data.info()"
      ]
    },
    {
      "cell_type": "code",
      "source": [
        "# Cek nilai hilang\n",
        "\n",
        "data.isnull().sum()\n",
        "\n",
        "# tidak ada nilai yang kosong"
      ],
      "metadata": {
        "colab": {
          "base_uri": "https://localhost:8080/",
          "height": 523
        },
        "id": "9eF73JTran2C",
        "outputId": "0d423346-1caf-48ee-830e-6cff01f13462"
      },
      "id": "9eF73JTran2C",
      "execution_count": 2,
      "outputs": [
        {
          "output_type": "execute_result",
          "data": {
            "text/plain": [
              "age         0\n",
              "sex         0\n",
              "cp          0\n",
              "trestbps    0\n",
              "chol        0\n",
              "fbs         0\n",
              "restecg     0\n",
              "thalach     0\n",
              "exang       0\n",
              "oldpeak     0\n",
              "slope       0\n",
              "ca          0\n",
              "thal        0\n",
              "target      0\n",
              "dtype: int64"
            ],
            "text/html": [
              "<div>\n",
              "<style scoped>\n",
              "    .dataframe tbody tr th:only-of-type {\n",
              "        vertical-align: middle;\n",
              "    }\n",
              "\n",
              "    .dataframe tbody tr th {\n",
              "        vertical-align: top;\n",
              "    }\n",
              "\n",
              "    .dataframe thead th {\n",
              "        text-align: right;\n",
              "    }\n",
              "</style>\n",
              "<table border=\"1\" class=\"dataframe\">\n",
              "  <thead>\n",
              "    <tr style=\"text-align: right;\">\n",
              "      <th></th>\n",
              "      <th>0</th>\n",
              "    </tr>\n",
              "  </thead>\n",
              "  <tbody>\n",
              "    <tr>\n",
              "      <th>age</th>\n",
              "      <td>0</td>\n",
              "    </tr>\n",
              "    <tr>\n",
              "      <th>sex</th>\n",
              "      <td>0</td>\n",
              "    </tr>\n",
              "    <tr>\n",
              "      <th>cp</th>\n",
              "      <td>0</td>\n",
              "    </tr>\n",
              "    <tr>\n",
              "      <th>trestbps</th>\n",
              "      <td>0</td>\n",
              "    </tr>\n",
              "    <tr>\n",
              "      <th>chol</th>\n",
              "      <td>0</td>\n",
              "    </tr>\n",
              "    <tr>\n",
              "      <th>fbs</th>\n",
              "      <td>0</td>\n",
              "    </tr>\n",
              "    <tr>\n",
              "      <th>restecg</th>\n",
              "      <td>0</td>\n",
              "    </tr>\n",
              "    <tr>\n",
              "      <th>thalach</th>\n",
              "      <td>0</td>\n",
              "    </tr>\n",
              "    <tr>\n",
              "      <th>exang</th>\n",
              "      <td>0</td>\n",
              "    </tr>\n",
              "    <tr>\n",
              "      <th>oldpeak</th>\n",
              "      <td>0</td>\n",
              "    </tr>\n",
              "    <tr>\n",
              "      <th>slope</th>\n",
              "      <td>0</td>\n",
              "    </tr>\n",
              "    <tr>\n",
              "      <th>ca</th>\n",
              "      <td>0</td>\n",
              "    </tr>\n",
              "    <tr>\n",
              "      <th>thal</th>\n",
              "      <td>0</td>\n",
              "    </tr>\n",
              "    <tr>\n",
              "      <th>target</th>\n",
              "      <td>0</td>\n",
              "    </tr>\n",
              "  </tbody>\n",
              "</table>\n",
              "</div><br><label><b>dtype:</b> int64</label>"
            ]
          },
          "metadata": {},
          "execution_count": 2
        }
      ]
    },
    {
      "cell_type": "markdown",
      "source": [
        "## Feature Selection (20 poin)\n",
        "\n",
        "1. Pilih 5 variabel terbaik menurut Anda dari seluruh variabel yang ada. (10 poin)\n",
        "2. Bagaimana cara Anda memilih 5 variabel tersebut? Kemukakan alasan Anda. (10 poin)"
      ],
      "metadata": {
        "id": "sO3DW0MScFaq"
      },
      "id": "sO3DW0MScFaq"
    },
    {
      "cell_type": "markdown",
      "source": [
        "1. Memilih 5 variabel terbaik"
      ],
      "metadata": {
        "id": "KIfMyOXagxzz"
      },
      "id": "KIfMyOXagxzz"
    },
    {
      "cell_type": "code",
      "source": [
        "# mencari 5 variabel terbaik\n",
        "\n",
        "# menghitung matriks korelasi antarkolom numerik dalam dataframe dataset (data)\n",
        "corr = data.corr(numeric_only=True)\n",
        "\n",
        "# menentukan kolom 'target' yang ingin dianalisis korelasinya\n",
        "target_col = 'target'\n",
        "\n",
        "# mengambil korelasi setiap fitur terhadap target\n",
        "corr_target = corr[target_col].drop(target_col).sort_values(key=abs, ascending=False)\n",
        "\n",
        "# Ambil 5 variabel terbaik\n",
        "top5_features = corr_target.head(5)\n",
        "print(\"\\n=== 5 VARIABEL TERBAIK BERDASARKAN KORELASI ===\")\n",
        "display(top5_features)"
      ],
      "metadata": {
        "colab": {
          "base_uri": "https://localhost:8080/",
          "height": 275
        },
        "id": "hKbhJJ_icCYj",
        "outputId": "37c01c9e-7de0-478c-e3b2-ed2441006f3d"
      },
      "id": "hKbhJJ_icCYj",
      "execution_count": 3,
      "outputs": [
        {
          "output_type": "stream",
          "name": "stdout",
          "text": [
            "\n",
            "=== 5 VARIABEL TERBAIK BERDASARKAN KORELASI ===\n"
          ]
        },
        {
          "output_type": "display_data",
          "data": {
            "text/plain": [
              "oldpeak   -0.438441\n",
              "exang     -0.438029\n",
              "cp         0.434854\n",
              "thalach    0.422895\n",
              "ca        -0.382085\n",
              "Name: target, dtype: float64"
            ],
            "text/html": [
              "<div>\n",
              "<style scoped>\n",
              "    .dataframe tbody tr th:only-of-type {\n",
              "        vertical-align: middle;\n",
              "    }\n",
              "\n",
              "    .dataframe tbody tr th {\n",
              "        vertical-align: top;\n",
              "    }\n",
              "\n",
              "    .dataframe thead th {\n",
              "        text-align: right;\n",
              "    }\n",
              "</style>\n",
              "<table border=\"1\" class=\"dataframe\">\n",
              "  <thead>\n",
              "    <tr style=\"text-align: right;\">\n",
              "      <th></th>\n",
              "      <th>target</th>\n",
              "    </tr>\n",
              "  </thead>\n",
              "  <tbody>\n",
              "    <tr>\n",
              "      <th>oldpeak</th>\n",
              "      <td>-0.438441</td>\n",
              "    </tr>\n",
              "    <tr>\n",
              "      <th>exang</th>\n",
              "      <td>-0.438029</td>\n",
              "    </tr>\n",
              "    <tr>\n",
              "      <th>cp</th>\n",
              "      <td>0.434854</td>\n",
              "    </tr>\n",
              "    <tr>\n",
              "      <th>thalach</th>\n",
              "      <td>0.422895</td>\n",
              "    </tr>\n",
              "    <tr>\n",
              "      <th>ca</th>\n",
              "      <td>-0.382085</td>\n",
              "    </tr>\n",
              "  </tbody>\n",
              "</table>\n",
              "</div><br><label><b>dtype:</b> float64</label>"
            ]
          },
          "metadata": {}
        }
      ]
    },
    {
      "cell_type": "markdown",
      "source": [
        "2. Cara pemilihan\n",
        "\n",
        "Caranya menentukan 5 variabel terbaik adalah dengan menghitung korelasi antara setiap variabel numerik dengan variabel target. Kemudian, nilai korelasi diurutkan berdasarkan besar nilai tanpa memperhatikan nilai positif dan negatif. 5 variabel teratas dijadikan sebagai variabel terbaik."
      ],
      "metadata": {
        "id": "CRkTD4__fF3X"
      },
      "id": "CRkTD4__fF3X"
    },
    {
      "cell_type": "markdown",
      "source": [
        "## Clustering - 1 (30 poin)\n",
        "\n",
        "1. Lakukan pembuatan model cluster dengan menggunakan KMeans dengan jumlah cluster mulai 1 hingga 10. (10 poin)\n",
        "2. Buat diagram elbow, tentukan jumlah cluster terbaik menurut elbow method dan berikan alasan. (10 poin)\n",
        "3. Hitung nilai silhouette coefficient dari k=1 hingga k=10. Berdassarkan nilai silhouette, berapa jumlah cluster terbaik? Apakah sama dengan metode elbow? (10 poin)\n",
        "\n",
        "NB: Anda diperbolehkan untuk melakukan proses normalisasi/standardisasi sebelum pembuatan model clustering. Lakukan pengamatan terhadap hasil clustering."
      ],
      "metadata": {
        "id": "Su31S-0dhYWE"
      },
      "id": "Su31S-0dhYWE"
    },
    {
      "cell_type": "markdown",
      "source": [
        "1. Lakukan pembuatan model cluster dengan menggunakan KMeans dengan jumlah cluster mulai 1 hingga 10. (10 poin)"
      ],
      "metadata": {
        "id": "V3YalYPKiPdW"
      },
      "id": "V3YalYPKiPdW"
    },
    {
      "cell_type": "code",
      "source": [
        "from sklearn.preprocessing import StandardScaler\n",
        "\n",
        "# mengambil 5 fitur terbaik\n",
        "top5_features = ['cp', 'thalach', 'exang', 'oldpeak', 'slope']\n",
        "X = data[top5_features]\n",
        "\n",
        "print(X.head())\n",
        "\n",
        "# normalisasi data\n",
        "scaler = StandardScaler()\n",
        "X_scaled = scaler.fit_transform(X)\n",
        "\n",
        "X_scaled_data = pd.DataFrame(X_scaled, columns=top5_features)\n",
        "print(\"Data setelah standardisasi:\")\n",
        "print(X_scaled_data.head())"
      ],
      "metadata": {
        "colab": {
          "base_uri": "https://localhost:8080/"
        },
        "id": "8iweEC3OhZif",
        "outputId": "b156932b-e15e-48b3-cf33-8f5fa70b1d29"
      },
      "id": "8iweEC3OhZif",
      "execution_count": 47,
      "outputs": [
        {
          "output_type": "stream",
          "name": "stdout",
          "text": [
            "   cp  thalach  exang  oldpeak  slope\n",
            "0   0      168      0      1.0      2\n",
            "1   0      155      1      3.1      0\n",
            "2   0      125      1      2.6      0\n",
            "3   0      161      0      0.0      2\n",
            "4   0      106      0      1.9      1\n",
            "Data setelah standardisasi:\n",
            "         cp   thalach     exang   oldpeak     slope\n",
            "0 -0.915755  0.821321 -0.712287 -0.060888  0.995433\n",
            "1 -0.915755  0.255968  1.403928  1.727137 -2.243675\n",
            "2 -0.915755 -1.048692  1.403928  1.301417 -2.243675\n",
            "3 -0.915755  0.516900 -0.712287 -0.912329  0.995433\n",
            "4 -0.915755 -1.874977 -0.712287  0.705408 -0.624121\n"
          ]
        }
      ]
    },
    {
      "cell_type": "code",
      "source": [
        "from sklearn.cluster import KMeans\n",
        "from sklearn.metrics import silhouette_score\n",
        "\n",
        "# membuat model cluster dengan jumlah 1-10\n",
        "sse = []\n",
        "silhouette_scores = [] # Renamed the list to avoid conflict\n",
        "k_range = range(1, 11)\n",
        "\n",
        "for k in k_range:\n",
        "    kmeans = KMeans(n_clusters=k, random_state=42, n_init=10)\n",
        "    kmeans.fit(X_scaled)\n",
        "    sse.append(kmeans.inertia_)\n",
        "\n",
        "    if k > 1:\n",
        "        silhouette_avg = silhouette_score(X_scaled, kmeans.labels_)\n",
        "        silhouette_scores.append(silhouette_avg) # Append to the renamed list\n",
        "    else:\n",
        "        silhouette_scores.append(0) # Append to the renamed list"
      ],
      "metadata": {
        "id": "K4e0k6ziyGOx"
      },
      "id": "K4e0k6ziyGOx",
      "execution_count": 49,
      "outputs": []
    },
    {
      "cell_type": "markdown",
      "source": [
        "2. Buat diagram elbow, tentukan jumlah cluster terbaik menurut elbow method dan berikan alasan. (10 poin)"
      ],
      "metadata": {
        "id": "qLg5kW7Qixg1"
      },
      "id": "qLg5kW7Qixg1"
    },
    {
      "cell_type": "code",
      "source": [
        "# Visualisasi diagram elbow\n",
        "plt.figure(figsize=(8,4))\n",
        "plt.plot(k_range, sse, \"bx-\")\n",
        "plt.xlabel(\"k\")\n",
        "plt.ylabel(\"sse\")\n",
        "plt.title(\"Elbow Method to Find The Best K\")\n",
        "plt.grid(True)\n",
        "plt.show()"
      ],
      "metadata": {
        "colab": {
          "base_uri": "https://localhost:8080/",
          "height": 404
        },
        "id": "oZoYSTAQizOF",
        "outputId": "adadb938-a383-407e-8340-3ec4efd7bbcf"
      },
      "id": "oZoYSTAQizOF",
      "execution_count": 50,
      "outputs": [
        {
          "output_type": "display_data",
          "data": {
            "text/plain": [
              "<Figure size 800x400 with 1 Axes>"
            ],
            "image/png": "[encoded data removed]"
          },
          "metadata": {}
        }
      ]
    },
    {
      "cell_type": "markdown",
      "source": [
        "Dari visualisasi elbow, nilai k terbaik adalah 5. Karena, di titik ke-5, grafiknya mulai melandai."
      ],
      "metadata": {
        "id": "FRyARVJapTuc"
      },
      "id": "FRyARVJapTuc"
    },
    {
      "cell_type": "markdown",
      "source": [
        "3. Hitung nilai silhouette coefficient dari k=1 hingga k=10. Berdassarkan nilai silhouette, berapa jumlah cluster terbaik? Apakah sama dengan metode elbow? (10 poin)"
      ],
      "metadata": {
        "id": "ETFaBTHXpzPf"
      },
      "id": "ETFaBTHXpzPf"
    },
    {
      "cell_type": "code",
      "source": [
        "plt.subplot(1, 2, 2)\n",
        "plt.plot(k_range[1:], silhouette_scores[1:], 'ro-', linewidth=2, markersize=8)\n",
        "plt.xlabel('Number of Clusters (k)')\n",
        "plt.ylabel('Silhouette Score')\n",
        "plt.title('Silhouette Score untuk Menentukan k Optimal')\n",
        "plt.grid(True, alpha=0.3)\n",
        "\n",
        "plt.tight_layout()\n",
        "plt.show()"
      ],
      "metadata": {
        "colab": {
          "base_uri": "https://localhost:8080/",
          "height": 487
        },
        "id": "FqSnsEWakq61",
        "outputId": "c900b66c-6733-497b-8e06-75d0a8926d12"
      },
      "id": "FqSnsEWakq61",
      "execution_count": 52,
      "outputs": [
        {
          "output_type": "display_data",
          "data": {
            "text/plain": [
              "<Figure size 640x480 with 1 Axes>"
            ],
            "image/png": "[encoded data removed]"
          },
          "metadata": {}
        }
      ]
    }
  ],
  "metadata": {
    "kernelspec": {
      "display_name": ".venv",
      "language": "python",
      "name": "python3"
    },
    "language_info": {
      "name": "python",
      "version": "3.12.9"
    },
    "colab": {
      "provenance": [],
      "include_colab_link": true
    }
  },
  "nbformat": 4,
  "nbformat_minor": 5
}