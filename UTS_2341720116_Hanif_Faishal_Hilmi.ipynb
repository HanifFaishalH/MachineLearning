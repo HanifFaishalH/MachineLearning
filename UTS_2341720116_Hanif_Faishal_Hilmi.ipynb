{
  "cells": [
    {
      "cell_type": "markdown",
      "metadata": {
        "id": "view-in-github",
        "colab_type": "text"
      },
      "source": [
        "<a href=\"https://colab.research.google.com/github/HanifFaishalH/MachineLearning/blob/main/UTS_2341720116_Hanif_Faishal_Hilmi.ipynb\" target=\"_parent\"><img src=\"https://colab.research.google.com/assets/colab-badge.svg\" alt=\"Open In Colab\"/></a>"
      ]
    },
    {
      "cell_type": "markdown",
      "id": "168cf8b6",
      "metadata": {
        "id": "168cf8b6"
      },
      "source": [
        "# UTS\n",
        "\n",
        "## Nama     : Hanif Faishal Hilmi\n",
        "\n",
        "## Kelas     : TI-3F\n",
        "\n",
        "## NIM     : 2341720116"
      ]
    },
    {
      "cell_type": "markdown",
      "id": "73447003",
      "metadata": {
        "id": "73447003"
      },
      "source": [
        "# Studi Kasus 3 - Heart Diseases\n",
        "\n",
        "- Studi kasus ini tentang ciri penyakit liver.\n",
        "- Untuk mahasiswa dengan no absen 3, 6, 9, 12, dst\n",
        "- Lakukan beberapa tahapan berikut dan lakukan proses analisis terhadap hasil yang dihasilkan.\n",
        "\n",
        "## Pra Pengolahan Data (10 poin)\n",
        "\n",
        "1. Load data (0 poin)\n",
        "2. Cek deskripsi data apakah menggandung nilai yang hilang. Jika ya, sebutkan berapa dan pada fitur yang mana. (5 poin)\n",
        "3. Drop fitur yang tidak relevan untuk proses clustering. (5 poin)\n",
        "\n",
        "## Feature Selection (20 poin)\n",
        "\n",
        "1. Pilih 5 variabel terbaik menurut Anda dari seluruh variabel yang ada. (10 poin)\n",
        "2. Bagaimana cara Anda memilih 5 variabel tersebut? Kemukakan alasan Anda. (10 poin)\n",
        "\n",
        "## Clustering - 1 (30 poin)\n",
        "\n",
        "1. Lakukan pembuatan model cluster dengan menggunakan KMeans dengan jumlah cluster mulai 1 hingga 10. (10 poin)\n",
        "2. Buat diagram elbow, tentukan jumlah cluster terbaik menurut elbow method dan berikan alasan. (10 poin)\n",
        "3. Hitung nilai silhouette coefficient dari k=1 hingga k=10. Berdassarkan nilai silhouette, berapa jumlah cluster terbaik? Apakah sama dengan metode elbow? (10 poin)\n",
        "\n",
        "NB: Anda diperbolehkan untuk melakukan proses normalisasi/standardisasi sebelum pembuatan model clustering. Lakukan pengamatan terhadap hasil clustering.\n",
        "\n",
        "## Clustering - 2 (20 poin)\n",
        "\n",
        "1. Lakukan pembuatan model cluster dengan menggunakan DBSCAN. Berapa jumlah cluster yang dihasilkan? (10 poin)\n",
        "2. Berapa nilai silhouette coefficient dan DBI dari cluster yang dihasilkan oleh DBSCAN? (10 poin)\n",
        "\n",
        "## Feature Selection 2 (30 poin)\n",
        "Setelah mengetahui performa hasil clustering pada model KMeans dan DBSCAN berdasakan silhouette coefficient dan DBI, lakukan proses feature selection untuk meningkatkan nilai silhouette coefficient dan DBI. Anda diperbolehkan untuk menggunakan metode iterative process atau metode yang lain.\n",
        "\n",
        "1. Fitur apa yang memberikan nilai silhouette coefficient/DBI terbaik? Lengkapi dengan proses pemilihan fitur\n",
        "2. Mengapa Anda menggunakan metode pemilihan fitur tersebut?\n",
        "\n",
        "\n",
        "## BONUS - CHALLENGE (30 poin)\n",
        "Buatlah model ANNOY menggunakan data yang telah melalui proses pra pengolahan data. Lakukan query dengan 5 nilai terdekat. Apakah ANNOY melakukan query pada cluster terbaik yang telah Anda bentuk?"
      ]
    },
    {
      "cell_type": "markdown",
      "id": "013ab3ed",
      "metadata": {
        "id": "013ab3ed"
      },
      "source": [
        "# Jawab"
      ]
    },
    {
      "cell_type": "markdown",
      "id": "67c19354",
      "metadata": {
        "id": "67c19354"
      },
      "source": [
        "## Pra Pengolahan Data (10 poin)\n",
        "\n",
        "1. Load data (0 poin)\n",
        "2. Cek deskripsi data apakah menggandung nilai yang hilang. Jika ya, sebutkan berapa dan pada fitur yang mana. (5 poin)\n",
        "4. Drop fitur yang tidak relevan untuk proses clustering. (5 poin)"
      ]
    },
    {
      "cell_type": "code",
      "source": [
        "from google.colab import drive\n",
        "drive.mount('/content/drive')"
      ],
      "metadata": {
        "colab": {
          "base_uri": "https://localhost:8080/"
        },
        "id": "assYUVCnbvJn",
        "outputId": "29a72e24-591f-4b74-f1da-cb50a811e77e"
      },
      "id": "assYUVCnbvJn",
      "execution_count": 1,
      "outputs": [
        {
          "output_type": "stream",
          "name": "stdout",
          "text": [
            "Drive already mounted at /content/drive; to attempt to forcibly remount, call drive.mount(\"/content/drive\", force_remount=True).\n"
          ]
        }
      ]
    },
    {
      "cell_type": "code",
      "execution_count": 2,
      "id": "7d0d5582",
      "metadata": {
        "colab": {
          "base_uri": "https://localhost:8080/"
        },
        "id": "7d0d5582",
        "outputId": "df933224-787c-4b03-83f2-d21c1a472259"
      },
      "outputs": [
        {
          "output_type": "stream",
          "name": "stdout",
          "text": [
            "<class 'pandas.core.frame.DataFrame'>\n",
            "RangeIndex: 1025 entries, 0 to 1024\n",
            "Data columns (total 14 columns):\n",
            " #   Column    Non-Null Count  Dtype  \n",
            "---  ------    --------------  -----  \n",
            " 0   age       1025 non-null   int64  \n",
            " 1   sex       1025 non-null   int64  \n",
            " 2   cp        1025 non-null   int64  \n",
            " 3   trestbps  1025 non-null   int64  \n",
            " 4   chol      1025 non-null   int64  \n",
            " 5   fbs       1025 non-null   int64  \n",
            " 6   restecg   1025 non-null   int64  \n",
            " 7   thalach   1025 non-null   int64  \n",
            " 8   exang     1025 non-null   int64  \n",
            " 9   oldpeak   1025 non-null   float64\n",
            " 10  slope     1025 non-null   int64  \n",
            " 11  ca        1025 non-null   int64  \n",
            " 12  thal      1025 non-null   int64  \n",
            " 13  target    1025 non-null   int64  \n",
            "dtypes: float64(1), int64(13)\n",
            "memory usage: 112.2 KB\n"
          ]
        }
      ],
      "source": [
        "import numpy as np\n",
        "import matplotlib.pyplot as plt\n",
        "import pandas as pd\n",
        "\n",
        "# 1. Load data\n",
        "data = pd.read_csv('/content/drive/MyDrive/Machine Learning/3_heart.csv')\n",
        "data.info()"
      ]
    },
    {
      "cell_type": "markdown",
      "source": [
        "2. Cek deskripsi data apakah menggandung nilai yang hilang. Jika ya, sebutkan berapa dan pada fitur yang mana.\n",
        "3. Drop fitur yang tidak relevan untuk proses clustering. (5 poin)"
      ],
      "metadata": {
        "id": "HHykyf7ZuL5W"
      },
      "id": "HHykyf7ZuL5W"
    },
    {
      "cell_type": "code",
      "source": [
        "# Cek nilai hilang\n",
        "\n",
        "missing_values = data.isnull().sum()\n",
        "print(missing_values)\n",
        "print(f\"Total missing: {missing_values.sum()}\")\n",
        "\n",
        "# tidak ada data yang kosong\n",
        "\n",
        "X = data.drop(columns=['target'])\n",
        "\n",
        "data.info()"
      ],
      "metadata": {
        "colab": {
          "base_uri": "https://localhost:8080/"
        },
        "id": "9eF73JTran2C",
        "outputId": "5fcc37e8-9cea-4e9d-a0c0-f7e22d17fd4c"
      },
      "id": "9eF73JTran2C",
      "execution_count": 3,
      "outputs": [
        {
          "output_type": "stream",
          "name": "stdout",
          "text": [
            "age         0\n",
            "sex         0\n",
            "cp          0\n",
            "trestbps    0\n",
            "chol        0\n",
            "fbs         0\n",
            "restecg     0\n",
            "thalach     0\n",
            "exang       0\n",
            "oldpeak     0\n",
            "slope       0\n",
            "ca          0\n",
            "thal        0\n",
            "target      0\n",
            "dtype: int64\n",
            "Total missing: 0\n",
            "<class 'pandas.core.frame.DataFrame'>\n",
            "RangeIndex: 1025 entries, 0 to 1024\n",
            "Data columns (total 14 columns):\n",
            " #   Column    Non-Null Count  Dtype  \n",
            "---  ------    --------------  -----  \n",
            " 0   age       1025 non-null   int64  \n",
            " 1   sex       1025 non-null   int64  \n",
            " 2   cp        1025 non-null   int64  \n",
            " 3   trestbps  1025 non-null   int64  \n",
            " 4   chol      1025 non-null   int64  \n",
            " 5   fbs       1025 non-null   int64  \n",
            " 6   restecg   1025 non-null   int64  \n",
            " 7   thalach   1025 non-null   int64  \n",
            " 8   exang     1025 non-null   int64  \n",
            " 9   oldpeak   1025 non-null   float64\n",
            " 10  slope     1025 non-null   int64  \n",
            " 11  ca        1025 non-null   int64  \n",
            " 12  thal      1025 non-null   int64  \n",
            " 13  target    1025 non-null   int64  \n",
            "dtypes: float64(1), int64(13)\n",
            "memory usage: 112.2 KB\n"
          ]
        }
      ]
    },
    {
      "cell_type": "markdown",
      "source": [
        "## Feature Selection (20 poin)\n",
        "\n",
        "1. Pilih 5 variabel terbaik menurut Anda dari seluruh variabel yang ada. (10 poin)\n",
        "2. Bagaimana cara Anda memilih 5 variabel tersebut? Kemukakan alasan Anda. (10 poin)"
      ],
      "metadata": {
        "id": "sO3DW0MScFaq"
      },
      "id": "sO3DW0MScFaq"
    },
    {
      "cell_type": "markdown",
      "source": [
        "1. Memilih 5 variabel terbaik"
      ],
      "metadata": {
        "id": "KIfMyOXagxzz"
      },
      "id": "KIfMyOXagxzz"
    },
    {
      "cell_type": "code",
      "source": [
        "# mencari 5 variabel terbaik menggunakan variance\n",
        "from sklearn.feature_selection import VarianceThreshold\n",
        "\n",
        "selector = VarianceThreshold()\n",
        "selector.fit(X)\n",
        "variances = selector.variances_\n",
        "feature_variance = pd.DataFrame({\n",
        "    'feature': X.columns,\n",
        "    'variance': variances\n",
        "}).sort_values('variance', ascending=False)\n",
        "\n",
        "print(\"Ranking fitur berdasarkan variance:\")\n",
        "print(feature_variance)\n",
        "\n",
        "# memilih 5 fitur dengan variasi tertinggi\n",
        "top5_features = feature_variance.head(5)['feature'].tolist()\n",
        "print(top5_features)"
      ],
      "metadata": {
        "colab": {
          "base_uri": "https://localhost:8080/"
        },
        "id": "hKbhJJ_icCYj",
        "outputId": "3a8003f6-f861-4fae-d2f7-d6a28097c2f7"
      },
      "id": "hKbhJJ_icCYj",
      "execution_count": 4,
      "outputs": [
        {
          "output_type": "stream",
          "name": "stdout",
          "text": [
            "Ranking fitur berdasarkan variance:\n",
            "     feature    variance\n",
            "4       chol  438.000000\n",
            "7    thalach  131.000000\n",
            "3   trestbps  106.000000\n",
            "0        age   48.000000\n",
            "9    oldpeak    1.379403\n",
            "11        ca    1.061507\n",
            "2         cp    1.059126\n",
            "12      thal    0.384843\n",
            "10     slope    0.381249\n",
            "6    restecg    0.278383\n",
            "8      exang    0.223296\n",
            "1        sex    0.211737\n",
            "5        fbs    0.126987\n",
            "['chol', 'thalach', 'trestbps', 'age', 'oldpeak']\n"
          ]
        }
      ]
    },
    {
      "cell_type": "markdown",
      "source": [
        "2. Cara pemilihan\n",
        "\n",
        "Cara menentukan 5 variabel terbaik adalah menggunakan Variance Threshold, yaitu mengukur varian nilai yang tersebar dalam suatu fitur. Cara kerjanya yaitu tiap fitur dihitung variannya, kemudian diubah ke dalam array, dilakukan perankingan, dan diambil 5 fitur dengan varian terbesar."
      ],
      "metadata": {
        "id": "CRkTD4__fF3X"
      },
      "id": "CRkTD4__fF3X"
    },
    {
      "cell_type": "markdown",
      "source": [
        "## Clustering - 1 (30 poin)\n",
        "\n",
        "1. Lakukan pembuatan model cluster dengan menggunakan KMeans dengan jumlah cluster mulai 1 hingga 10. (10 poin)\n",
        "2. Buat diagram elbow, tentukan jumlah cluster terbaik menurut elbow method dan berikan alasan. (10 poin)\n",
        "3. Hitung nilai silhouette coefficient dari k=1 hingga k=10. Berdassarkan nilai silhouette, berapa jumlah cluster terbaik? Apakah sama dengan metode elbow? (10 poin)\n",
        "\n",
        "NB: Anda diperbolehkan untuk melakukan proses normalisasi/standardisasi sebelum pembuatan model clustering. Lakukan pengamatan terhadap hasil clustering."
      ],
      "metadata": {
        "id": "Su31S-0dhYWE"
      },
      "id": "Su31S-0dhYWE"
    },
    {
      "cell_type": "code",
      "source": [
        "from sklearn.preprocessing import StandardScaler\n",
        "\n",
        "# mengambil 5 fitur terbaik\n",
        "final_features = top5_features\n",
        "X = data[final_features]\n",
        "\n",
        "print(X.head())\n",
        "\n",
        "# normalisasi data\n",
        "scaler = StandardScaler()\n",
        "X_scaled = scaler.fit_transform(X)\n",
        "\n",
        "X_scaled_data = pd.DataFrame(X_scaled, columns=final_features)\n",
        "print(\"Data setelah standardisasi:\")\n",
        "print(X_scaled_data.head())"
      ],
      "metadata": {
        "colab": {
          "base_uri": "https://localhost:8080/"
        },
        "id": "8iweEC3OhZif",
        "outputId": "7021aa82-1ae0-47a5-de80-d514037c25c6"
      },
      "id": "8iweEC3OhZif",
      "execution_count": 5,
      "outputs": [
        {
          "output_type": "stream",
          "name": "stdout",
          "text": [
            "   chol  thalach  trestbps  age  oldpeak\n",
            "0   212      168       125   52      1.0\n",
            "1   203      155       140   53      3.1\n",
            "2   174      125       145   70      2.6\n",
            "3   203      161       148   61      0.0\n",
            "4   294      106       138   62      1.9\n",
            "Data setelah standardisasi:\n",
            "       chol   thalach  trestbps       age   oldpeak\n",
            "0 -0.659332  0.821321 -0.377636 -0.268437 -0.060888\n",
            "1 -0.833861  0.255968  0.479107 -0.158157  1.727137\n",
            "2 -1.396233 -1.048692  0.764688  1.716595  1.301417\n",
            "3 -0.833861  0.516900  0.936037  0.724079 -0.912329\n",
            "4  0.930822 -1.874977  0.364875  0.834359  0.705408\n"
          ]
        }
      ]
    },
    {
      "cell_type": "markdown",
      "source": [
        "1. Lakukan pembuatan model cluster dengan menggunakan KMeans dengan jumlah cluster mulai 1 hingga 10. (10 poin)"
      ],
      "metadata": {
        "id": "V3YalYPKiPdW"
      },
      "id": "V3YalYPKiPdW"
    },
    {
      "cell_type": "code",
      "source": [
        "from sklearn.cluster import KMeans\n",
        "from sklearn.metrics import silhouette_score\n",
        "\n",
        "# membuat model cluster dengan jumlah 1-10\n",
        "sse = []\n",
        "silhouette_scores = [] # Renamed the list to avoid conflict\n",
        "k_range = range(1, 11)\n",
        "\n",
        "for k in k_range:\n",
        "    kmeans = KMeans(n_clusters=k, random_state=42, n_init=10)\n",
        "    kmeans.fit(X_scaled)\n",
        "    labels = kmeans.labels_\n",
        "    sse.append(kmeans.inertia_)"
      ],
      "metadata": {
        "id": "K4e0k6ziyGOx"
      },
      "id": "K4e0k6ziyGOx",
      "execution_count": 6,
      "outputs": []
    },
    {
      "cell_type": "markdown",
      "source": [
        "2. Buat diagram elbow, tentukan jumlah cluster terbaik menurut elbow method dan berikan alasan. (10 poin)"
      ],
      "metadata": {
        "id": "qLg5kW7Qixg1"
      },
      "id": "qLg5kW7Qixg1"
    },
    {
      "cell_type": "code",
      "source": [
        "# Visualisasi diagram elbow\n",
        "plt.figure(figsize=(8,4))\n",
        "plt.plot(k_range, sse, \"bx-\")\n",
        "plt.xlabel(\"k\")\n",
        "plt.ylabel(\"sse\")\n",
        "plt.title(\"Elbow Method to Find The Best K\")\n",
        "plt.grid(True)\n",
        "plt.show()\n",
        "\n",
        "# Analisis penurunan nilai SSE\n",
        "for i in range(1, len(sse)):\n",
        "    reduction = sse[i-1] - sse[i]\n",
        "    reduction_pct = (reduction / sse[i-1]) * 100\n",
        "\n",
        "    # Tandai di mana penurunan mulai tidak signifikan\n",
        "    if reduction_pct < 15:\n",
        "        indicator = \"← PENURUNAN TIDAK SIGNIFIKAN\"\n",
        "    elif reduction_pct < 25:\n",
        "        indicator = \"← PENURUNAN MULAI MELAMBAT\"\n",
        "    else:\n",
        "        indicator = \"\"\n",
        "\n",
        "    print(f\"{i}→{i+1}\\t{sse[i]:.2f}\\t\\t{reduction:.2f}\\t\\t{reduction_pct:.1f}%\\t{indicator}\")\n",
        "\n"
      ],
      "metadata": {
        "colab": {
          "base_uri": "https://localhost:8080/",
          "height": 560
        },
        "id": "oZoYSTAQizOF",
        "outputId": "d7cba0e9-5291-489b-d362-d2da2ee3b4a5"
      },
      "id": "oZoYSTAQizOF",
      "execution_count": 7,
      "outputs": [
        {
          "output_type": "display_data",
          "data": {
            "text/plain": [
              "<Figure size 800x400 with 1 Axes>"
            ],
            "image/png": "[encoded data removed]"
          },
          "metadata": {}
        },
        {
          "output_type": "stream",
          "name": "stdout",
          "text": [
            "1→2\t3857.35\t\t1267.65\t\t24.7%\t← PENURUNAN MULAI MELAMBAT\n",
            "2→3\t3319.88\t\t537.47\t\t13.9%\t← PENURUNAN TIDAK SIGNIFIKAN\n",
            "3→4\t2969.63\t\t350.26\t\t10.6%\t← PENURUNAN TIDAK SIGNIFIKAN\n",
            "4→5\t2672.39\t\t297.23\t\t10.0%\t← PENURUNAN TIDAK SIGNIFIKAN\n",
            "5→6\t2459.82\t\t212.57\t\t8.0%\t← PENURUNAN TIDAK SIGNIFIKAN\n",
            "6→7\t2293.92\t\t165.90\t\t6.7%\t← PENURUNAN TIDAK SIGNIFIKAN\n",
            "7→8\t2160.86\t\t133.06\t\t5.8%\t← PENURUNAN TIDAK SIGNIFIKAN\n",
            "8→9\t2044.75\t\t116.12\t\t5.4%\t← PENURUNAN TIDAK SIGNIFIKAN\n",
            "9→10\t1950.09\t\t94.66\t\t4.6%\t← PENURUNAN TIDAK SIGNIFIKAN\n"
          ]
        }
      ]
    },
    {
      "cell_type": "markdown",
      "source": [
        "Dari model KMeans yang kemudian menggunakan metode elbow, nilai k optimal untuk dataset ini adalah 2. Hal ini dapat dibuktikan dari penurunan nilai SSE tidak signifikan dimulai dari titik ke-2."
      ],
      "metadata": {
        "id": "FRyARVJapTuc"
      },
      "id": "FRyARVJapTuc"
    },
    {
      "cell_type": "markdown",
      "source": [
        "3. Hitung nilai silhouette coefficient dari k=1 hingga k=10. Berdassarkan nilai silhouette, berapa jumlah cluster terbaik? Apakah sama dengan metode elbow? (10 poin)"
      ],
      "metadata": {
        "id": "ETFaBTHXpzPf"
      },
      "id": "ETFaBTHXpzPf"
    },
    {
      "cell_type": "code",
      "source": [
        "from sklearn.cluster import KMeans\n",
        "from sklearn.metrics import silhouette_score\n",
        "\n",
        "# membuat model cluster dengan jumlah 1-10\n",
        "sse = []\n",
        "silhouette_scores = [] # Renamed the list to avoid conflict\n",
        "k_range = range(1, 11)\n",
        "\n",
        "for k in k_range:\n",
        "    kmeans = KMeans(n_clusters=k, random_state=42, n_init=10)\n",
        "    kmeans.fit(X_scaled)\n",
        "    labels = kmeans.labels_\n",
        "    sse.append(kmeans.inertia_)\n",
        "\n",
        "    # mencari nilai silhouette\n",
        "    if k > 1:\n",
        "        sil_score = silhouette_score(X_scaled, labels)\n",
        "        silhouette_scores.append(sil_score)\n",
        "        print(f\"k={k}: Silhouette Score = {sil_score:.4f}\")\n",
        "    else:\n",
        "        silhouette_scores.append(0)  # Tidak terdefinisi untuk k=1\n",
        "        print(f\"k={k}: Silhouette Score = Tidak terdefinisi\")"
      ],
      "metadata": {
        "colab": {
          "base_uri": "https://localhost:8080/"
        },
        "id": "FqSnsEWakq61",
        "outputId": "aa38732a-b221-48be-c1e6-d1b56f857980"
      },
      "id": "FqSnsEWakq61",
      "execution_count": 8,
      "outputs": [
        {
          "output_type": "stream",
          "name": "stdout",
          "text": [
            "k=1: Silhouette Score = Tidak terdefinisi\n",
            "k=2: Silhouette Score = 0.2423\n",
            "k=3: Silhouette Score = 0.2294\n",
            "k=4: Silhouette Score = 0.2012\n",
            "k=5: Silhouette Score = 0.2156\n",
            "k=6: Silhouette Score = 0.2050\n",
            "k=7: Silhouette Score = 0.1956\n",
            "k=8: Silhouette Score = 0.1865\n",
            "k=9: Silhouette Score = 0.1928\n",
            "k=10: Silhouette Score = 0.1927\n"
          ]
        }
      ]
    },
    {
      "cell_type": "markdown",
      "source": [
        "Jika menggunakan nilai Silhouette Score, nilai k terbaik adalah ketika k=2."
      ],
      "metadata": {
        "id": "OCqALm92kDRR"
      },
      "id": "OCqALm92kDRR"
    },
    {
      "cell_type": "markdown",
      "source": [
        "Setelah melakukan perhitungan menggunakan metode elbow dan nilai Silhouette, terdapat kesamaan nilai k optimal diantara kedua metode ini yaitu k=2."
      ],
      "metadata": {
        "id": "kCev65WLkjBp"
      },
      "id": "kCev65WLkjBp"
    },
    {
      "cell_type": "markdown",
      "source": [
        "**Model Final KMeans**"
      ],
      "metadata": {
        "id": "Q6wmFCVF4HYT"
      },
      "id": "Q6wmFCVF4HYT"
    },
    {
      "cell_type": "code",
      "source": [
        "optimal_k = 2\n",
        "\n",
        "# Model final KMeans\n",
        "kmeans = KMeans(n_clusters=optimal_k, random_state=42, n_init=10)\n",
        "final_labels = kmeans.fit_predict(X_scaled)"
      ],
      "metadata": {
        "id": "thxX3J7o4Kfg"
      },
      "id": "thxX3J7o4Kfg",
      "execution_count": 26,
      "outputs": []
    },
    {
      "cell_type": "markdown",
      "source": [
        "## Clustering - 2 (20 poin)\n",
        "\n",
        "1. Lakukan pembuatan model cluster dengan menggunakan DBSCAN. Berapa jumlah cluster yang dihasilkan? (10 poin)\n",
        "2. Berapa nilai silhouette coefficient dan DBI dari cluster yang dihasilkan oleh DBSCAN? (10 poin)"
      ],
      "metadata": {
        "id": "vXQU9_ULlv4M"
      },
      "id": "vXQU9_ULlv4M"
    },
    {
      "cell_type": "code",
      "source": [
        "# pembuatan model cluster dengan DBSCAN\n",
        "from sklearn.cluster import DBSCAN\n",
        "from sklearn.metrics import silhouette_score, davies_bouldin_score\n",
        "\n",
        "# membuat model DBSCAN\n",
        "dbscan = DBSCAN(eps=0.5, min_samples=5)\n",
        "labels = dbscan.fit_predict(X_scaled)\n",
        "\n",
        "# menghitung jumlah cluster\n",
        "n_clusters = len(set(labels)) - (1 if -1 in labels else 0)\n",
        "n_noise = list(labels).count(-1)\n",
        "\n",
        "print(f\"Jumlah cluster: {n_clusters}\")\n",
        "print(f\"Jumlah outlier: {n_noise}\")\n",
        "\n",
        "# menghitung metrik dengan menggunakan data non-noise\n",
        "non_noise_mask = labels != -1\n",
        "if len(set(labels[non_noise_mask])) > 1:\n",
        "  X_non_noise = X_scaled[non_noise_mask]\n",
        "  labels_non_noise = labels[non_noise_mask]\n",
        "\n",
        "  sil_score = silhouette_score(X_non_noise, labels_non_noise)\n",
        "  dbi_score = davies_bouldin_score(X_non_noise, labels_non_noise)\n",
        "\n",
        "  print(f\"Silhouette Score: {sil_score}\")\n",
        "  print(f\"DBI Score: {dbi_score}\")"
      ],
      "metadata": {
        "colab": {
          "base_uri": "https://localhost:8080/"
        },
        "id": "JJ9_HAI_l4hw",
        "outputId": "0c204b2d-0d2f-4a58-b3eb-1df0d49fd16f"
      },
      "id": "JJ9_HAI_l4hw",
      "execution_count": 30,
      "outputs": [
        {
          "output_type": "stream",
          "name": "stdout",
          "text": [
            "Jumlah cluster: 25\n",
            "Jumlah outlier: 803\n",
            "Silhouette Score: 0.6343003284148981\n",
            "DBI Score: 0.569257344668017\n"
          ]
        }
      ]
    },
    {
      "cell_type": "markdown",
      "source": [
        "**Model DBSCAN**"
      ],
      "metadata": {
        "id": "laosX_dR8DyJ"
      },
      "id": "laosX_dR8DyJ"
    },
    {
      "cell_type": "code",
      "source": [
        "print(\"=== MODEL DBSCAN SUDAH TERBENTUK ===\")\n",
        "print(f\"✓ Parameter: eps={dbscan.eps}, min_samples={dbscan.min_samples}\")\n",
        "print(f\"✓ Jumlah cluster: {n_clusters}\")\n",
        "print(f\"✓ Jumlah noise: {n_noise}\")\n",
        "print(f\"✓ Core samples: {len(dbscan.core_sample_indices_)}\")\n",
        "print(f\"✓ Labels: {len(labels)} data points\")\n",
        "\n",
        "# Distribusi cluster detail\n",
        "print(f\"\\n=== DISTRIBUSI DETAIL ===\")\n",
        "unique, counts = np.unique(labels, return_counts=True)\n",
        "for label, count in zip(unique, counts):\n",
        "    if label == -1:\n",
        "        print(f\"  Noise: {count} points\")\n",
        "    else:\n",
        "        print(f\"  Cluster {label}: {count} points\")"
      ],
      "metadata": {
        "id": "5TrkXEr88Fur",
        "outputId": "adcddef3-6f41-4418-f6d1-6655e3416380",
        "colab": {
          "base_uri": "https://localhost:8080/"
        }
      },
      "id": "5TrkXEr88Fur",
      "execution_count": 31,
      "outputs": [
        {
          "output_type": "stream",
          "name": "stdout",
          "text": [
            "=== MODEL DBSCAN SUDAH TERBENTUK ===\n",
            "✓ Parameter: eps=0.5, min_samples=5\n",
            "✓ Jumlah cluster: 25\n",
            "✓ Jumlah noise: 803\n",
            "✓ Core samples: 222\n",
            "✓ Labels: 1025 data points\n",
            "\n",
            "=== DISTRIBUSI DETAIL ===\n",
            "  Noise: 803 points\n",
            "  Cluster 0: 10 points\n",
            "  Cluster 1: 14 points\n",
            "  Cluster 2: 14 points\n",
            "  Cluster 3: 7 points\n",
            "  Cluster 4: 21 points\n",
            "  Cluster 5: 8 points\n",
            "  Cluster 6: 6 points\n",
            "  Cluster 7: 8 points\n",
            "  Cluster 8: 10 points\n",
            "  Cluster 9: 21 points\n",
            "  Cluster 10: 6 points\n",
            "  Cluster 11: 6 points\n",
            "  Cluster 12: 7 points\n",
            "  Cluster 13: 6 points\n",
            "  Cluster 14: 15 points\n",
            "  Cluster 15: 7 points\n",
            "  Cluster 16: 6 points\n",
            "  Cluster 17: 6 points\n",
            "  Cluster 18: 7 points\n",
            "  Cluster 19: 6 points\n",
            "  Cluster 20: 6 points\n",
            "  Cluster 21: 6 points\n",
            "  Cluster 22: 7 points\n",
            "  Cluster 23: 6 points\n",
            "  Cluster 24: 6 points\n"
          ]
        }
      ]
    },
    {
      "cell_type": "markdown",
      "source": [
        "## BONUS - CHALLENGE (30 poin)\n",
        "Buatlah model ANNOY menggunakan data yang telah melalui proses pra pengolahan data. Lakukan query dengan 5 nilai terdekat. Apakah ANNOY melakukan query pada cluster terbaik yang telah Anda bentuk?"
      ],
      "metadata": {
        "id": "qY44Zxjr-k9z"
      },
      "id": "qY44Zxjr-k9z"
    },
    {
      "cell_type": "code",
      "source": [
        "!pip install annoy"
      ],
      "metadata": {
        "id": "LEhj8Zje_lQU",
        "outputId": "553b2ada-9216-4285-d189-a10529922ba0",
        "colab": {
          "base_uri": "https://localhost:8080/"
        }
      },
      "id": "LEhj8Zje_lQU",
      "execution_count": 33,
      "outputs": [
        {
          "output_type": "stream",
          "name": "stdout",
          "text": [
            "Collecting annoy\n",
            "  Downloading annoy-1.17.3.tar.gz (647 kB)\n",
            "\u001b[?25l     \u001b[90m━━━━━━━━━━━━━━━━━━━━━━━━━━━━━━━━━━━━━━━━\u001b[0m \u001b[32m0.0/647.5 kB\u001b[0m \u001b[31m?\u001b[0m eta \u001b[36m-:--:--\u001b[0m\r\u001b[2K     \u001b[91m━━━━━━━━\u001b[0m\u001b[91m╸\u001b[0m\u001b[90m━━━━━━━━━━━━━━━━━━━━━━━━━━━━━━\u001b[0m \u001b[32m143.4/647.5 kB\u001b[0m \u001b[31m4.5 MB/s\u001b[0m eta \u001b[36m0:00:01\u001b[0m\r\u001b[2K     \u001b[91m━━━━━━━━━━━━━━━━━━━━━━━━━━━━━━━━━━━━━\u001b[0m\u001b[91m╸\u001b[0m \u001b[32m645.1/647.5 kB\u001b[0m \u001b[31m10.1 MB/s\u001b[0m eta \u001b[36m0:00:01\u001b[0m\r\u001b[2K     \u001b[90m━━━━━━━━━━━━━━━━━━━━━━━━━━━━━━━━━━━━━━━\u001b[0m \u001b[32m647.5/647.5 kB\u001b[0m \u001b[31m7.9 MB/s\u001b[0m eta \u001b[36m0:00:00\u001b[0m\n",
            "\u001b[?25h  Preparing metadata (setup.py) ... \u001b[?25l\u001b[?25hdone\n",
            "Building wheels for collected packages: annoy\n",
            "  Building wheel for annoy (setup.py) ... \u001b[?25l\u001b[?25hdone\n",
            "  Created wheel for annoy: filename=annoy-1.17.3-cp312-cp312-linux_x86_64.whl size=551808 sha256=87facea31a5e41faccb503e6ab0a472e0a379d0008b869da2b15db9e9e164582\n",
            "  Stored in directory: /root/.cache/pip/wheels/db/b9/53/a3b2d1fe1743abadddec6aa541294b24fdbc39d7800bc57311\n",
            "Successfully built annoy\n",
            "Installing collected packages: annoy\n",
            "Successfully installed annoy-1.17.3\n"
          ]
        }
      ]
    },
    {
      "cell_type": "code",
      "source": [
        "from annoy import AnnoyIndex\n",
        "\n",
        "# persiapan data menggunakan 5 fitur terbaik\n",
        "n_features = X_scaled.shape[1] # mengambil 5 fitur terbaik\n",
        "n_trees = 50\n",
        "\n",
        "# membuat ANNOY index\n",
        "annoy_index = AnnoyIndex(n_features, 'euclidean')\n",
        "\n",
        "# menambah semua data points ke index\n",
        "for i, vector in enumerate(X_scaled):\n",
        "    annoy_index.add_item(i, vector)\n",
        "\n",
        "# membuat index dengan n trees\n",
        "annoy_index.build(n_trees)\n",
        "print(f\"ANNOY index built with {n_trees} trees\")\n",
        "\n",
        "# Test query\n",
        "print(\"\\n=== TEST QUERY ===\")\n",
        "query_idx = 0  # Data point pertama\n",
        "actual_cluster = final_labels[query_idx]\n",
        "\n",
        "print(f\"Query point {query_idx} - Actual cluster: {actual_cluster}\")\n",
        "\n",
        "# Get 5 nearest neighbors\n",
        "neighbors, distances = annoy_index.get_nns_by_item(query_idx, 6, include_distances=True)\n",
        "neighbors = neighbors[1:]  # Exclude self\n",
        "distances = distances[1:]\n",
        "\n",
        "print(\"5 Nearest Neighbors:\")\n",
        "for i, (neighbor, dist) in enumerate(zip(neighbors, distances)):\n",
        "    neighbor_cluster = final_labels[neighbor]\n",
        "    match = \"✓ SAME\" if neighbor_cluster == actual_cluster else \"✗ DIFFERENT\"\n",
        "    print(f\"  {i+1}. Point {neighbor} (Cluster {neighbor_cluster}) - Dist: {dist:.3f} {match}\")\n",
        "\n",
        "# Hitung akurasi\n",
        "matches = sum(1 for n in neighbors if final_labels[n] == actual_cluster)\n",
        "accuracy = matches / len(neighbors) * 100\n",
        "print(f\"Cluster matching accuracy: {accuracy:.1f}%\")\n"
      ],
      "metadata": {
        "id": "ZdVx1cTA-lUL",
        "outputId": "785076f8-d8ff-43de-bb2d-7616b6c1bb90",
        "colab": {
          "base_uri": "https://localhost:8080/"
        }
      },
      "id": "ZdVx1cTA-lUL",
      "execution_count": 41,
      "outputs": [
        {
          "output_type": "stream",
          "name": "stdout",
          "text": [
            "ANNOY index built with 50 trees\n",
            "\n",
            "=== TEST QUERY ===\n",
            "Query point 0 - Actual cluster: 1\n",
            "5 Nearest Neighbors:\n",
            "  1. Point 634 (Cluster 1) - Dist: 0.000 ✓ SAME\n",
            "  2. Point 671 (Cluster 1) - Dist: 0.000 ✓ SAME\n",
            "  3. Point 863 (Cluster 1) - Dist: 0.000 ✓ SAME\n",
            "  4. Point 14 (Cluster 1) - Dist: 0.571 ✓ SAME\n",
            "  5. Point 686 (Cluster 1) - Dist: 0.571 ✓ SAME\n",
            "Cluster matching accuracy: 100.0%\n"
          ]
        }
      ]
    },
    {
      "cell_type": "markdown",
      "source": [
        "Ya, ANNOY melakukan query pada cluster terbaik yang telah dibuat."
      ],
      "metadata": {
        "id": "uAY6lXx9Cset"
      },
      "id": "uAY6lXx9Cset"
    }
  ],
  "metadata": {
    "kernelspec": {
      "display_name": ".venv",
      "language": "python",
      "name": "python3"
    },
    "language_info": {
      "name": "python",
      "version": "3.12.9"
    },
    "colab": {
      "provenance": [],
      "include_colab_link": true
    }
  },
  "nbformat": 4,
  "nbformat_minor": 5
}