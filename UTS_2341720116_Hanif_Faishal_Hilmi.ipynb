{
 "cells": [
  {
   "cell_type": "markdown",
   "id": "168cf8b6",
   "metadata": {},
   "source": [
    "# UTS\n",
    "\n",
    "## Nama     : Hanif Faishal Hilmi\n",
    "\n",
    "## Kelas     : TI-3F\n",
    "\n",
    "## NIM     : 2341720116"
   ]
  },
  {
   "cell_type": "markdown",
   "id": "73447003",
   "metadata": {},
   "source": [
    "# Studi Kasus 3 - Heart Diseases\n",
    "\n",
    "- Studi kasus ini tentang ciri penyakit liver.\n",
    "- Untuk mahasiswa dengan no absen 3, 6, 9, 12, dst\n",
    "- Lakukan beberapa tahapan berikut dan lakukan proses analisis terhadap hasil yang dihasilkan.\n",
    "\n",
    "## Pra Pengolahan Data (10 poin)\n",
    "\n",
    "1. Load data (0 poin)\n",
    "2. Cek deskripsi data apakah menggandung nilai yang hilang. Jika ya, sebutkan berapa dan pada fitur yang mana. (5 poin)\n",
    "4. Drop fitur yang tidak relevan untuk proses clustering. (5 poin)\n",
    "\n",
    "## Feature Selection (20 poin)\n",
    "\n",
    "1. Pilih 5 variabel terbaik menurut Anda dari seluruh variabel yang ada. (10 poin)\n",
    "2. Bagaimana cara Anda memilih 5 variabel tersebut? Kemukakan alasan Anda. (10 poin)\n",
    "\n",
    "## Clustering - 1 (30 poin)\n",
    "\n",
    "1. Lakukan pembuatan model cluster dengan menggunakan KMeans dengan jumlah cluster mulai 1 hingga 10. (10 poin)\n",
    "2. Buat diagram elbow, tentukan jumlah cluster terbaik menurut elbow method dan berikan alasan. (10 poin)\n",
    "3. Hitung nilai silhouette coefficient dari k=1 hingga k=10. Berdassarkan nilai silhouette, berapa jumlah cluster terbaik? Apakah sama dengan metode elbow? (10 poin)\n",
    "\n",
    "NB: Anda diperbolehkan untuk melakukan proses normalisasi/standardisasi sebelum pembuatan model clustering. Lakukan pengamatan terhadap hasil clustering.\n",
    "\n",
    "## Clustering - 2 (20 poin)\n",
    "\n",
    "1. Lakukan pembuatan model cluster dengan menggunakan DBSCAN. Berapa jumlah cluster yang dihasilkan? (10 poin)\n",
    "2. Berapa nilai silhouette coefficient dan DBI dari cluster yang dihasilkan oleh DBSCAN? (10 poin)\n",
    "\n",
    "## Feature Selection 2 (30 poin)\n",
    "Setelah mengetahui performa hasil clustering pada model KMeans dan DBSCAN berdasakan silhouette coefficient dan DBI, lakukan proses feature selection untuk meningkatkan nilai silhouette coefficient dan DBI. Anda diperbolehkan untuk menggunakan metode iterative process atau metode yang lain.\n",
    "\n",
    "1. Fitur apa yang memberikan nilai silhouette coefficient/DBI terbaik? Lengkapi dengan proses pemilihan fitur\n",
    "2. Mengapa Anda menggunakan metode pemilihan fitur tersebut?\n",
    "\n",
    "\n",
    "## BONUS - CHALLENGE (30 poin)\n",
    "Buatlah model ANNOY menggunakan data yang telah melalui proses pra pengolahan data. Lakukan query dengan 5 nilai terdekat. Apakah ANNOY melakukan query pada cluster terbaik yang telah Anda bentuk?"
   ]
  },
  {
   "cell_type": "markdown",
   "id": "013ab3ed",
   "metadata": {},
   "source": [
    "# Jawab"
   ]
  },
  {
   "cell_type": "markdown",
   "id": "67c19354",
   "metadata": {},
   "source": [
    "## Pra Pengolahan Data (10 poin)\n",
    "\n",
    "1. Load data (0 poin)\n",
    "2. Cek deskripsi data apakah menggandung nilai yang hilang. Jika ya, sebutkan berapa dan pada fitur yang mana. (5 poin)\n",
    "4. Drop fitur yang tidak relevan untuk proses clustering. (5 poin)"
   ]
  },
  {
   "cell_type": "code",
   "execution_count": null,
   "id": "24a883de",
   "metadata": {},
   "outputs": [],
   "source": [
    "import sys\n",
    "print(sys.executable)\n"
   ]
  },
  {
   "cell_type": "code",
   "execution_count": null,
   "id": "7d0d5582",
   "metadata": {},
   "outputs": [],
   "source": [
    "import numpy as np\n",
    "import matplotlib.pyplot as plt\n",
    "import pandas as pd\n",
    "\n",
    "# 1. Load data\n",
    "data = pd.read_csv('3_heart.csv')\n",
    "data.info()"
   ]
  }
 ],
 "metadata": {
  "kernelspec": {
   "display_name": ".venv",
   "language": "python",
   "name": "python3"
  },
  "language_info": {
   "name": "python",
   "version": "3.12.9"
  }
 },
 "nbformat": 4,
 "nbformat_minor": 5
}
