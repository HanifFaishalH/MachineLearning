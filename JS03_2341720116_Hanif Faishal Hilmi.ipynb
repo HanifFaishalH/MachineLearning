{
 "cells": [
  {
   "cell_type": "markdown",
   "id": "ea5e4406",
   "metadata": {},
   "source": [
    "# Praktikum 1"
   ]
  },
  {
   "cell_type": "markdown",
   "id": "ec8ba460",
   "metadata": {},
   "source": [
    "**Langkah 1**\n",
    "\n",
    "Import Library"
   ]
  },
  {
   "cell_type": "code",
   "execution_count": 2,
   "id": "eddd19d0",
   "metadata": {},
   "outputs": [],
   "source": [
    "import pandas as pd\n",
    "import numpy as np\n",
    "from sklearn.model_selection import train_test_split\n",
    "from sklearn.compose import ColumnTransformer\n",
    "from sklearn.preprocessing import OneHotEncoder, StandardScaler\n",
    "from sklearn.pipeline import Pipeline\n",
    "from sklearn.impute import SimpleImputer\n",
    "from sklearn.linear_model import LogisticRegression\n",
    "from sklearn.feature_selection import chi2, SelectKBest, RFE\n",
    "from sklearn.metrics import accuracy_score, classification_report"
   ]
  },
  {
   "cell_type": "markdown",
   "id": "820a647b",
   "metadata": {},
   "source": [
    "**Langkah 2**\n",
    "\n",
    "Load data dan pengelompokan data"
   ]
  },
  {
   "cell_type": "code",
   "execution_count": 3,
   "id": "d3cabec1",
   "metadata": {},
   "outputs": [],
   "source": [
    "df = pd.read_csv(\"Titanic-Dataset.csv\")\n",
    "\n",
    "# pisahkan survived\n",
    "y = df[\"Survived\"].astype(int)\n",
    "X = df.drop(columns=[\"Survived\"])\n",
    "\n",
    "# Buat list variabel numerik dan kategorikal untuk proses seleksi fitur.\n",
    "# Name tidak digunakan karena tidak relevan\n",
    "num_cols = [\"Age\", \"SibSp\", \"Parch\", \"Fare\"]\n",
    "cat_cols = [\"Pclass\", \"Sex\", \"Embarked\"]"
   ]
  },
  {
   "cell_type": "markdown",
   "id": "996ee4f2",
   "metadata": {},
   "source": [
    "**Langkah 3**\n",
    "\n",
    "Ekstraksi Fitur"
   ]
  },
  {
   "cell_type": "code",
   "execution_count": 6,
   "id": "b03e4e01",
   "metadata": {},
   "outputs": [],
   "source": [
    "# Data Numerik\n",
    "num_tf = Pipeline([\n",
    "    (\"imputer\", SimpleImputer(strategy=\"mean\")),\n",
    "    (\"scaler\", StandardScaler())\n",
    "])\n",
    "\n",
    "# Data kategorikal\n",
    "cat_tf = Pipeline([\n",
    "    (\"imputer\", SimpleImputer(strategy=\"most_frequent\")),\n",
    "    (\"encoder\", OneHotEncoder(handle_unknown=\"ignore\"))\n",
    "])"
   ]
  },
  {
   "cell_type": "markdown",
   "id": "4866a358",
   "metadata": {},
   "source": [
    "**Langkah 3.1**\n",
    "\n",
    "Feature Construction"
   ]
  },
  {
   "cell_type": "code",
   "execution_count": 8,
   "id": "f1d3c440",
   "metadata": {},
   "outputs": [],
   "source": [
    "# Buat fitur FamilySize\n",
    "X[\"FamilySize\"] = X[\"SibSp\"].fillna(0) + X[\"Parch\"].fillna(0) +1\n",
    "\n",
    "# Tambahkan FamilySize pada kelompok numerikal\n",
    "preprocess = ColumnTransformer([\n",
    "    (\"num\", num_tf, num_cols + [\"FamilySize\"]),\n",
    "    (\"cat\", cat_tf, cat_cols),\n",
    "])"
   ]
  },
  {
   "cell_type": "markdown",
   "id": "765f3e55",
   "metadata": {},
   "source": [
    "**Langkah 4**\n",
    "\n",
    "Seleksi Fitur"
   ]
  },
  {
   "cell_type": "code",
   "execution_count": 9,
   "id": "bd79bbfd",
   "metadata": {},
   "outputs": [],
   "source": [
    "# Analisis ANOVA\n",
    "from sklearn.feature_selection import f_classif\n",
    "selector_filter = SelectKBest(score_func=f_classif, k=5)\n",
    "\n",
    "# Buat pipeline final\n",
    "pipe_filter = Pipeline([\n",
    "    (\"prep\", preprocess),\n",
    "    (\"sel\", selector_filter),\n",
    "    (\"clf\", LogisticRegression(max_iter=1000)),\n",
    "])"
   ]
  },
  {
   "cell_type": "markdown",
   "id": "17608593",
   "metadata": {},
   "source": [
    "**Langkah 5**\n",
    "\n",
    "Uji dengan model"
   ]
  },
  {
   "cell_type": "code",
   "execution_count": 10,
   "id": "9467c06f",
   "metadata": {},
   "outputs": [
    {
     "name": "stdout",
     "output_type": "stream",
     "text": [
      "===== FILTER (ANOVA) + LR ====\n",
      "Accuracy: 0.8100558659217877\n",
      "              precision    recall  f1-score   support\n",
      "\n",
      "           0       0.82      0.88      0.85       110\n",
      "           1       0.79      0.70      0.74        69\n",
      "\n",
      "    accuracy                           0.81       179\n",
      "   macro avg       0.80      0.79      0.79       179\n",
      "weighted avg       0.81      0.81      0.81       179\n",
      "\n"
     ]
    }
   ],
   "source": [
    "X_train, X_test, y_train, y_test = train_test_split(X, y, stratify=y, test_size=0.2)\n",
    "\n",
    "pipe_filter.fit(X_train, y_train)\n",
    "pred = pipe_filter.predict(X_test)\n",
    "print(\"===== FILTER (ANOVA) + LR ====\")\n",
    "print(\"Accuracy:\", accuracy_score(y_test, pred))\n",
    "print(classification_report(y_test, pred))"
   ]
  }
 ],
 "metadata": {
  "kernelspec": {
   "display_name": ".venv",
   "language": "python",
   "name": "python3"
  },
  "language_info": {
   "codemirror_mode": {
    "name": "ipython",
    "version": 3
   },
   "file_extension": ".py",
   "mimetype": "text/x-python",
   "name": "python",
   "nbconvert_exporter": "python",
   "pygments_lexer": "ipython3",
   "version": "3.13.7"
  }
 },
 "nbformat": 4,
 "nbformat_minor": 5
}
