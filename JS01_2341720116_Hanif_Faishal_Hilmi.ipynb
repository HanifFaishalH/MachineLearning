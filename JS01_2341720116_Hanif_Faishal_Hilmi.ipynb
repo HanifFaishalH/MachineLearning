{
  "nbformat": 4,
  "nbformat_minor": 0,
  "metadata": {
    "colab": {
      "provenance": [],
      "authorship_tag": "ABX9TyN6g6iESdXd5bL0BeuTPtGQ",
      "include_colab_link": true
    },
    "kernelspec": {
      "name": "python3",
      "display_name": "Python 3"
    },
    "language_info": {
      "name": "python"
    }
  },
  "cells": [
    {
      "cell_type": "markdown",
      "metadata": {
        "id": "view-in-github",
        "colab_type": "text"
      },
      "source": [
        "<a href=\"https://colab.research.google.com/github/HanifFaishalH/MachineLearning/blob/main/JS01_2341720116_Hanif_Faishal_Hilmi.ipynb\" target=\"_parent\"><img src=\"https://colab.research.google.com/assets/colab-badge.svg\" alt=\"Open In Colab\"/></a>"
      ]
    },
    {
      "cell_type": "markdown",
      "source": [
        "# Bagian 1"
      ],
      "metadata": {
        "id": "hbbkKAAR36E7"
      }
    },
    {
      "cell_type": "code",
      "source": [
        "!pip install scikit-learn"
      ],
      "metadata": {
        "colab": {
          "base_uri": "https://localhost:8080/"
        },
        "id": "w3G2_mas9uax",
        "outputId": "73ddef51-469d-4cb7-d160-50e4225a7300"
      },
      "execution_count": null,
      "outputs": [
        {
          "output_type": "stream",
          "name": "stdout",
          "text": [
            "Requirement already satisfied: scikit-learn in /usr/local/lib/python3.12/dist-packages (1.6.1)\n",
            "Requirement already satisfied: numpy>=1.19.5 in /usr/local/lib/python3.12/dist-packages (from scikit-learn) (2.0.2)\n",
            "Requirement already satisfied: scipy>=1.6.0 in /usr/local/lib/python3.12/dist-packages (from scikit-learn) (1.16.1)\n",
            "Requirement already satisfied: joblib>=1.2.0 in /usr/local/lib/python3.12/dist-packages (from scikit-learn) (1.5.1)\n",
            "Requirement already satisfied: threadpoolctl>=3.1.0 in /usr/local/lib/python3.12/dist-packages (from scikit-learn) (3.6.0)\n"
          ]
        }
      ]
    },
    {
      "cell_type": "code",
      "source": [
        "!pip install PyPREP Scipy wandb"
      ],
      "metadata": {
        "colab": {
          "base_uri": "https://localhost:8080/"
        },
        "id": "7x4AE6739jYS",
        "outputId": "325edd52-12fa-4779-c23b-f1c28bed1d0b"
      },
      "execution_count": null,
      "outputs": [
        {
          "output_type": "stream",
          "name": "stdout",
          "text": [
            "Collecting PyPREP\n",
            "  Downloading pyprep-0.5.0-py3-none-any.whl.metadata (7.3 kB)\n",
            "Requirement already satisfied: Scipy in /usr/local/lib/python3.12/dist-packages (1.16.1)\n",
            "Requirement already satisfied: wandb in /usr/local/lib/python3.12/dist-packages (0.21.1)\n",
            "Collecting mne>=1.3.0 (from PyPREP)\n",
            "  Downloading mne-1.10.1-py3-none-any.whl.metadata (20 kB)\n",
            "Requirement already satisfied: numpy>=1.20.2 in /usr/local/lib/python3.12/dist-packages (from PyPREP) (2.0.2)\n",
            "Requirement already satisfied: psutil>=5.4.3 in /usr/local/lib/python3.12/dist-packages (from PyPREP) (5.9.5)\n",
            "Requirement already satisfied: click!=8.0.0,>=7.1 in /usr/local/lib/python3.12/dist-packages (from wandb) (8.2.1)\n",
            "Requirement already satisfied: gitpython!=3.1.29,>=1.0.0 in /usr/local/lib/python3.12/dist-packages (from wandb) (3.1.45)\n",
            "Requirement already satisfied: packaging in /usr/local/lib/python3.12/dist-packages (from wandb) (25.0)\n",
            "Requirement already satisfied: platformdirs in /usr/local/lib/python3.12/dist-packages (from wandb) (4.3.8)\n",
            "Requirement already satisfied: protobuf!=4.21.0,!=5.28.0,<7,>=3.19.0 in /usr/local/lib/python3.12/dist-packages (from wandb) (5.29.5)\n",
            "Requirement already satisfied: pydantic<3 in /usr/local/lib/python3.12/dist-packages (from wandb) (2.11.7)\n",
            "Requirement already satisfied: pyyaml in /usr/local/lib/python3.12/dist-packages (from wandb) (6.0.2)\n",
            "Requirement already satisfied: requests<3,>=2.0.0 in /usr/local/lib/python3.12/dist-packages (from wandb) (2.32.4)\n",
            "Requirement already satisfied: sentry-sdk>=2.0.0 in /usr/local/lib/python3.12/dist-packages (from wandb) (2.35.0)\n",
            "Requirement already satisfied: typing-extensions<5,>=4.8 in /usr/local/lib/python3.12/dist-packages (from wandb) (4.15.0)\n",
            "Requirement already satisfied: gitdb<5,>=4.0.1 in /usr/local/lib/python3.12/dist-packages (from gitpython!=3.1.29,>=1.0.0->wandb) (4.0.12)\n",
            "Requirement already satisfied: decorator in /usr/local/lib/python3.12/dist-packages (from mne>=1.3.0->PyPREP) (4.4.2)\n",
            "Requirement already satisfied: jinja2 in /usr/local/lib/python3.12/dist-packages (from mne>=1.3.0->PyPREP) (3.1.6)\n",
            "Requirement already satisfied: lazy-loader>=0.3 in /usr/local/lib/python3.12/dist-packages (from mne>=1.3.0->PyPREP) (0.4)\n",
            "Requirement already satisfied: matplotlib>=3.7 in /usr/local/lib/python3.12/dist-packages (from mne>=1.3.0->PyPREP) (3.10.0)\n",
            "Requirement already satisfied: pooch>=1.5 in /usr/local/lib/python3.12/dist-packages (from mne>=1.3.0->PyPREP) (1.8.2)\n",
            "Requirement already satisfied: tqdm in /usr/local/lib/python3.12/dist-packages (from mne>=1.3.0->PyPREP) (4.67.1)\n",
            "Requirement already satisfied: annotated-types>=0.6.0 in /usr/local/lib/python3.12/dist-packages (from pydantic<3->wandb) (0.7.0)\n",
            "Requirement already satisfied: pydantic-core==2.33.2 in /usr/local/lib/python3.12/dist-packages (from pydantic<3->wandb) (2.33.2)\n",
            "Requirement already satisfied: typing-inspection>=0.4.0 in /usr/local/lib/python3.12/dist-packages (from pydantic<3->wandb) (0.4.1)\n",
            "Requirement already satisfied: charset_normalizer<4,>=2 in /usr/local/lib/python3.12/dist-packages (from requests<3,>=2.0.0->wandb) (3.4.3)\n",
            "Requirement already satisfied: idna<4,>=2.5 in /usr/local/lib/python3.12/dist-packages (from requests<3,>=2.0.0->wandb) (3.10)\n",
            "Requirement already satisfied: urllib3<3,>=1.21.1 in /usr/local/lib/python3.12/dist-packages (from requests<3,>=2.0.0->wandb) (2.5.0)\n",
            "Requirement already satisfied: certifi>=2017.4.17 in /usr/local/lib/python3.12/dist-packages (from requests<3,>=2.0.0->wandb) (2025.8.3)\n",
            "Requirement already satisfied: smmap<6,>=3.0.1 in /usr/local/lib/python3.12/dist-packages (from gitdb<5,>=4.0.1->gitpython!=3.1.29,>=1.0.0->wandb) (5.0.2)\n",
            "Requirement already satisfied: contourpy>=1.0.1 in /usr/local/lib/python3.12/dist-packages (from matplotlib>=3.7->mne>=1.3.0->PyPREP) (1.3.3)\n",
            "Requirement already satisfied: cycler>=0.10 in /usr/local/lib/python3.12/dist-packages (from matplotlib>=3.7->mne>=1.3.0->PyPREP) (0.12.1)\n",
            "Requirement already satisfied: fonttools>=4.22.0 in /usr/local/lib/python3.12/dist-packages (from matplotlib>=3.7->mne>=1.3.0->PyPREP) (4.59.1)\n",
            "Requirement already satisfied: kiwisolver>=1.3.1 in /usr/local/lib/python3.12/dist-packages (from matplotlib>=3.7->mne>=1.3.0->PyPREP) (1.4.9)\n",
            "Requirement already satisfied: pillow>=8 in /usr/local/lib/python3.12/dist-packages (from matplotlib>=3.7->mne>=1.3.0->PyPREP) (11.3.0)\n",
            "Requirement already satisfied: pyparsing>=2.3.1 in /usr/local/lib/python3.12/dist-packages (from matplotlib>=3.7->mne>=1.3.0->PyPREP) (3.2.3)\n",
            "Requirement already satisfied: python-dateutil>=2.7 in /usr/local/lib/python3.12/dist-packages (from matplotlib>=3.7->mne>=1.3.0->PyPREP) (2.9.0.post0)\n",
            "Requirement already satisfied: MarkupSafe>=2.0 in /usr/local/lib/python3.12/dist-packages (from jinja2->mne>=1.3.0->PyPREP) (3.0.2)\n",
            "Requirement already satisfied: six>=1.5 in /usr/local/lib/python3.12/dist-packages (from python-dateutil>=2.7->matplotlib>=3.7->mne>=1.3.0->PyPREP) (1.17.0)\n",
            "Downloading pyprep-0.5.0-py3-none-any.whl (34 kB)\n",
            "Downloading mne-1.10.1-py3-none-any.whl (7.4 MB)\n",
            "\u001b[2K   \u001b[90m━━━━━━━━━━━━━━━━━━━━━━━━━━━━━━━━━━━━━━━━\u001b[0m \u001b[32m7.4/7.4 MB\u001b[0m \u001b[31m63.8 MB/s\u001b[0m eta \u001b[36m0:00:00\u001b[0m\n",
            "\u001b[?25hInstalling collected packages: mne, PyPREP\n",
            "Successfully installed PyPREP-0.5.0 mne-1.10.1\n"
          ]
        }
      ]
    },
    {
      "cell_type": "code",
      "source": [
        "!pip install pyECG --no-deps"
      ],
      "metadata": {
        "colab": {
          "base_uri": "https://localhost:8080/"
        },
        "id": "WBZ9IVxp-Cb9",
        "outputId": "8c26a1da-dcdc-43f7-e7e9-043eb63e2cc4"
      },
      "execution_count": null,
      "outputs": [
        {
          "output_type": "stream",
          "name": "stdout",
          "text": [
            "Collecting pyECG\n",
            "  Downloading pyECG-0.0.9.1-py2.py3-none-any.whl.metadata (3.1 kB)\n",
            "Downloading pyECG-0.0.9.1-py2.py3-none-any.whl (14 kB)\n",
            "Installing collected packages: pyECG\n",
            "Successfully installed pyECG-0.0.9.1\n"
          ]
        }
      ]
    },
    {
      "cell_type": "markdown",
      "source": [
        "1. PyPREP\n",
        "Digunakan untuk preprocessing data EEG(Electroencephalography).\n",
        "2. Scipy\n",
        "Menyediakan berbagai modul untuk optimisasi, aljabar linear, integrasi, statistik, dll.\n",
        "3. wandb\n",
        "Digunakan untuk melacak, mevisualisasi, dan mengelola eksperimen ML.\n",
        "4. pyECG\n",
        "Digunakan untuk analisis sinyal EKG (Elektrokardiogram)"
      ],
      "metadata": {
        "id": "KnHWNHPg-dZL"
      }
    },
    {
      "cell_type": "markdown",
      "source": [
        "# Bagian 2"
      ],
      "metadata": {
        "id": "pCm8bpq73_hR"
      }
    },
    {
      "cell_type": "markdown",
      "source": [
        "**Pertanyaan**\n",
        "\n",
        "1. Berikan contoh tentang tidakan melanggar etika dan hukum tentang penggunaan kecerdasan buatan. Sertakan referensi yang digunakan.\n",
        "\n",
        "2. Berikan contoh tentang dampak energi dan lingkungan terhadap pemanfaatan kecerdasan buatan dan bagaimana cara mengatasinya (Anda dapat memberikan pendapat pribadi). Sertakan referensi yang digunakan."
      ],
      "metadata": {
        "id": "58Ff0mkS4TTM"
      }
    },
    {
      "cell_type": "markdown",
      "source": [
        "**Jawaban**\n",
        "\n",
        "1. contoh pelanggaran etikan dan hukum tentang penggunaan kecerdasan buatan.\n",
        "\n",
        "\n",
        "*   Penyebaran informasi palsu dengan mengubah suara dari suatu video dengan sulih suara.\n",
        "*   Diskriminasi algoritmik seperti memberikan keputusan yang diskriminatif ke suatu ras, suku, atau golongan masyarakat tertentu.\n",
        "*   Pelanggaran hak cipta seperti generate gambar AI yang menggunakan data dari seniman atau artis yang ada di internet tanpa izin.\n",
        "\n",
        "**Referensi  :**\n",
        "* European Commission. (2021). Proposal for a Regulation of the European Parliament and of the Council Laying Down Harmonised Rules on Artificial Intelligence (Artificial Intelligence Act).\n",
        "\n",
        "* UN Human Rights Office of the High Commissioner. (2020). The Right to Privacy in the Digital Age.\n",
        "\n",
        "\n",
        "2. Pengembangan kecerdasan buatan (AI) berdampak kepada lingkungan. Pusat data yang digunakan dalam pengembangan AI contohnya mikrochip membutuhkan penambangan yang dapat merusak lingkungan. Selain itu, Pusat data pengembangan menghasilkan limbah elektronik yang berbahaya seperti merkuri dan timah. Dalam melakukan operasional dan pembangunan, konsumsi air untuk infrastruktur pengembangan AI setara dengan 6 kali konsumsi seluruh penduduk Denmark yang menyebabkan seperempat dari populasi manusia kekurangan akses air bersih dan sanitasi. Terakhir, Pusat data yang mengembangan teknologi AI membutuhkan energi yang sangat banyak, dimana beberapa pembangkit listrik masih menggunakan pembakaran dari minyak bumi yang menyebabkan meningkatknya efek rumah kaca.\n",
        "\n",
        "Untuk mengatasi dampak buruk, ada beberapa cara yang dapat dilakukan, sepert :\n",
        "\n",
        "* Negara-negara menetapkan prosedur (SoP) untuk mengukur dampak lingkungan dari pengembangan AI,\n",
        "* Pemerintah dapat mengembangkan peraturan ke beberapa perusahaan tentang konsekuensi langsung penggunaan layanan AI terhadap lingkungan,\n",
        "* Perusahaan teknologi dapat membuat algoritma AI yang lebih efisien, mendaur ulang air, dan menggunakan kembali komponen yang masih layak,\n",
        "* Negara-negara dapat mendorong perusahaan untuk menghijaukan pusat data, seperti menggunakan energi terbarui dan mengimbangi emisi karbon.\n",
        "\n",
        "**Referensi :**\n",
        "https://www.unep.org/news-and-stories/story/ai-has-environmental-problem-heres-what-world-can-do-about"
      ],
      "metadata": {
        "id": "N8zx0z284ZI6"
      }
    }
  ]
}